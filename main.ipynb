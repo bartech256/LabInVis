{
 "cells": [
  {
   "cell_type": "markdown",
   "id": "5ff94aa0622800b",
   "metadata": {},
   "source": [
    "Flow for a machine learning project\n",
    "\n",
    "1. Load configuration\n",
    "2. Initialize data processor\n",
    "3. Load and preprocess housing data\n",
    "4. For each edge connectivity method:\n",
    "   a. Build graph with specific connectivity\n",
    "   b. For each model type (Simple/Multi-layer):\n",
    "      - Initialize model\n",
    "      - Train model\n",
    "      - Evaluate on validation set\n",
    "      - Save results\n",
    "5. Compare all results\n",
    "6. Get test result and Generate final report"
   ]
  },
  {
   "cell_type": "markdown",
   "id": "9eddd025",
   "metadata": {},
   "source": [
    "Imports"
   ]
  },
  {
   "cell_type": "code",
   "id": "7a35ef6b",
   "metadata": {},
   "source": [
    "#Setup imports and reload modules that may change during development\n",
    "\n",
    "# Clear GPU memory\n",
    "import torch\n",
    "torch.cuda.empty_cache()\n",
    "torch.cuda.ipc_collect()\n",
    "torch.cuda.reset_peak_memory_stats()\n",
    "\n",
    "# Base imports\n",
    "import numpy as np\n",
    "import pandas as pd\n",
    "from tqdm import tqdm\n",
    "import time\n",
    "import sys\n",
    "import importlib\n",
    "\n",
    "# Reloadable modules\n",
    "import config\n",
    "import data_processor\n",
    "import models\n",
    "import trainer\n",
    "import graph_builder\n",
    "import experiment_runner\n",
    "\n",
    "# Reload them to pick up any code changes\n",
    "for module in [config, data_processor, models, trainer, graph_builder, experiment_runner]:\n",
    "    importlib.reload(module)\n",
    "\n",
    "# Import classes/functions AFTER reloading\n",
    "from config import Config\n",
    "from data_processor import DataProcessor\n",
    "from models import SimpleGCN, SimpleGAT, MultiLayerGCN\n",
    "from trainer import Trainer\n",
    "from experiment_runner import ExperimentRunner\n",
    "\n",
    "\n",
    "print(\"GNN Real Estate Price Prediction Setup\")\n"
   ],
   "outputs": [],
   "execution_count": null
  },
  {
   "cell_type": "markdown",
   "id": "6e828057",
   "metadata": {},
   "source": "load and setup data"
  },
  {
   "cell_type": "code",
   "id": "0a7bfd48",
   "metadata": {},
   "source": [
    "cfg = Config()\n",
    "data_processor = DataProcessor()\n",
    "\n",
    "data_processor.create_processed_data(cfg, force_recreate= False)\n",
    "\n",
    "print(f\"   Features to use: {len(cfg.engineered_embedding_features)}\")\n",
    "print(f\"   Epochs: {cfg.default_epochs}\")\n",
    "print(f\"   Learning rate: {cfg.default_learning_rate}\")"
   ],
   "outputs": [],
   "execution_count": null
  },
  {
   "cell_type": "markdown",
   "id": "91ed74fa",
   "metadata": {},
   "source": [
    "Configuration Setup"
   ]
  },
  {
   "cell_type": "code",
   "id": "576997a9",
   "metadata": {},
   "source": [
    "# Hardware check\n",
    "print(f\"\\nHardware Check:\")\n",
    "print(f\"   CUDA available: {torch.cuda.is_available()}\")\n",
    "if torch.cuda.is_available():\n",
    "    print(f\"   GPU: {torch.cuda.get_device_name()}\")\n",
    "    print(f\"   GPU memory: {torch.cuda.get_device_properties(0).total_memory / 1e9:.1f} GB\")\n",
    "else:\n",
    "    print(f\"   Using CPU\")\n",
    "print(f\"   CPU threads: {torch.get_num_threads()}\")"
   ],
   "outputs": [],
   "execution_count": null
  },
  {
   "cell_type": "markdown",
   "id": "896741a6",
   "metadata": {},
   "source": "Running experiments with different edge connectivity and models"
  },
  {
   "metadata": {},
   "cell_type": "code",
   "source": [
    "print(\"running experiments with different edge connectivity methods and models...\")\n",
    "\n",
    "# crate different configurations for different edge connectivity methods and models\n",
    "\n",
    "\n",
    "cfg_array = []\n",
    "\n",
    "# create here many configurations that are based on the cfg object\n",
    "\n",
    "experiment_runner = ExperimentRunner()"
   ],
   "id": "d661147f43c7858d",
   "outputs": [],
   "execution_count": null
  },
  {
   "metadata": {},
   "cell_type": "code",
   "source": "# run the experiments with different configurations",
   "id": "9ac0607222a06b08",
   "outputs": [],
   "execution_count": null
  },
  {
   "metadata": {},
   "cell_type": "code",
   "source": "experiment_runner.run_experiment_list(cfg_array)",
   "id": "a56dbc7df94fe336",
   "outputs": [],
   "execution_count": null
  }
 ],
 "metadata": {
  "kernelspec": {
   "display_name": "mygpuenv",
   "language": "python",
   "name": "python3"
  },
  "language_info": {
   "codemirror_mode": {
    "name": "ipython",
    "version": 3
   },
   "file_extension": ".py",
   "mimetype": "text/x-python",
   "name": "python",
   "nbconvert_exporter": "python",
   "pygments_lexer": "ipython3",
   "version": "3.12.9"
  }
 },
 "nbformat": 4,
 "nbformat_minor": 5
}
